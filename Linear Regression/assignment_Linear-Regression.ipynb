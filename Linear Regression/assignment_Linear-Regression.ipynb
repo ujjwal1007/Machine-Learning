{
 "cells": [
  {
   "cell_type": "markdown",
   "id": "7e553cc2",
   "metadata": {},
   "source": [
    "# Import Libararies"
   ]
  },
  {
   "cell_type": "code",
   "execution_count": 23,
   "id": "3089c696",
   "metadata": {},
   "outputs": [],
   "source": [
    "import matplotlib.pyplot as plt\n",
    "import numpy as np\n",
    "import pandas as pd\n",
    "import sklearn\n",
    "import math"
   ]
  },
  {
   "cell_type": "markdown",
   "id": "27faa775",
   "metadata": {},
   "source": [
    "# Loading Dataset"
   ]
  },
  {
   "cell_type": "code",
   "execution_count": 40,
   "id": "2353c1b1",
   "metadata": {},
   "outputs": [
    {
     "name": "stdout",
     "output_type": "stream",
     "text": [
      "   age     sex     bmi  children smoker     region      charges\n",
      "0   19  female  27.900         0    yes  southwest  16884.92400\n",
      "1   18    male  33.770         1     no  southeast   1725.55230\n",
      "2   28    male  33.000         3     no  southeast   4449.46200\n",
      "3   33    male  22.705         0     no  northwest  21984.47061\n",
      "4   32    male  28.880         0     no  northwest   3866.85520\n"
     ]
    }
   ],
   "source": [
    " # reading a csv file as pandas dataframe\n",
    "df = pd.read_csv(\"Medical Price Dataset.csv\")\n",
    "\n",
    "print(df.head())"
   ]
  },
  {
   "cell_type": "code",
   "execution_count": 28,
   "id": "823335ae",
   "metadata": {},
   "outputs": [
    {
     "name": "stdout",
     "output_type": "stream",
     "text": [
      "   age     sex     bmi  children smoker     region      charges\n",
      "0   19  female  27.900         0    yes  southwest  16884.92400\n",
      "1   18    male  33.770         1     no  southeast   1725.55230\n",
      "2   28    male  33.000         3     no  southeast   4449.46200\n",
      "3   33    male  22.705         0     no  northwest  21984.47061\n",
      "4   32    male  28.880         0     no  northwest   3866.85520\n"
     ]
    }
   ],
   "source": [
    "print(df.head())"
   ]
  },
  {
   "cell_type": "markdown",
   "id": "c4c1242d",
   "metadata": {},
   "source": [
    "# dividing data in X & Y values"
   ]
  },
  {
   "cell_type": "code",
   "execution_count": 37,
   "id": "f0fa164b",
   "metadata": {},
   "outputs": [],
   "source": [
    "X = df['charges'].values\n",
    "Y = df['bmi'].values\n",
    "\n",
    "#calcuating mean for X & Y:\n",
    "mean_x = np.mean(X)\n",
    "mean_y = np.mean(Y)"
   ]
  },
  {
   "cell_type": "markdown",
   "id": "b5c0d7b8",
   "metadata": {},
   "source": [
    "# Calculating Values and linear regression:"
   ]
  },
  {
   "cell_type": "code",
   "execution_count": 38,
   "id": "667d12d4",
   "metadata": {},
   "outputs": [
    {
     "name": "stdout",
     "output_type": "stream",
     "text": [
      "m=9.987771906652404e-05 \n",
      "c = 29.337977354094626\n"
     ]
    }
   ],
   "source": [
    "# As formula for linear regression is stated as: \n",
    "#                y = m*x + c\n",
    "m= len(X)\n",
    "\n",
    "# Using the formula to calculte m & c\n",
    "number= 0\n",
    "denom= 0\n",
    "\n",
    "for i in range(m):\n",
    "    number += (X[i]-mean_x)*(Y[i]-mean_y)\n",
    "    denom += (X[i]-mean_x)**2\n",
    "m=number/denom\n",
    "c=mean_y-(m*mean_x)\n",
    "print(f'm={m} \\nc = {c}')"
   ]
  },
  {
   "cell_type": "markdown",
   "id": "53811cef",
   "metadata": {},
   "source": [
    "# Plot values and Regression-line"
   ]
  },
  {
   "cell_type": "code",
   "execution_count": 39,
   "id": "07810b34",
   "metadata": {},
   "outputs": [
    {
     "data": {
      "image/png": "[encoded data removed]",
      "text/plain": [
       "<Figure size 432x288 with 1 Axes>"
      ]
     },
     "metadata": {
      "needs_background": "light"
     },
     "output_type": "display_data"
    }
   ],
   "source": [
    "max_x = np.max(X) \n",
    "min_x = np.min(Y) \n",
    "\n",
    "# calculating line values x and y\n",
    "x = np.linspace (min_x, max_x, 100)\n",
    "y = m*x + c \n",
    "\n",
    "plt.plot(x, y, color='red', label='Regression Line')\n",
    "plt.scatter(X, Y, c='green', label='data points')\n",
    "\n",
    "plt.xlabel('X_train')\n",
    "plt.ylabel('Y_train')\n",
    "plt.legend()\n",
    "plt.show()"
   ]
  }
 ],
 "metadata": {
  "kernelspec": {
   "display_name": "Python 3 (ipykernel)",
   "language": "python",
   "name": "python3"
  },
  "language_info": {
   "codemirror_mode": {
    "name": "ipython",
    "version": 3
   },
   "file_extension": ".py",
   "mimetype": "text/x-python",
   "name": "python",
   "nbconvert_exporter": "python",
   "pygments_lexer": "ipython3",
   "version": "3.10.4"
  }
 },
 "nbformat": 4,
 "nbformat_minor": 5
}
