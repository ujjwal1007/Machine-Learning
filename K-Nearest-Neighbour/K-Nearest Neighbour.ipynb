{
 "cells": [
  {
   "cell_type": "markdown",
   "id": "d0787127",
   "metadata": {},
   "source": [
    "# Import libraries"
   ]
  },
  {
   "cell_type": "code",
   "execution_count": 84,
   "id": "88b5c4bd",
   "metadata": {},
   "outputs": [],
   "source": [
    "import numpy as np\n",
    "import pandas as pd\n",
    "import sklearn\n",
    "import matplotlib.pyplot as plt"
   ]
  },
  {
   "cell_type": "markdown",
   "id": "78db02e1",
   "metadata": {},
   "source": [
    "# # Import Dataset"
   ]
  },
  {
   "cell_type": "code",
   "execution_count": 85,
   "id": "5f5628a0",
   "metadata": {},
   "outputs": [],
   "source": [
    "df=pd.read_csv(\"gender_submission.csv\")\n",
    "x = df.iloc[:, [0,1]].to_numpy()\n",
    "y = df.iloc[np.random.choice([0, 1], size=418), [0]].to_numpy()"
   ]
  },
  {
   "cell_type": "markdown",
   "id": "238b948e",
   "metadata": {},
   "source": [
    "# Split dataset into train and test set's"
   ]
  },
  {
   "cell_type": "code",
   "execution_count": 86,
   "id": "1aad772c",
   "metadata": {},
   "outputs": [],
   "source": [
    "x_train = x[:80]\n",
    "y_train = y[:80]\n",
    "x_test = x[80:]\n",
    "y_test = y[80:]"
   ]
  },
  {
   "cell_type": "markdown",
   "id": "b7ac7cb9",
   "metadata": {},
   "source": [
    "# Predict labels using K_nearest_neighbour"
   ]
  },
  {
   "cell_type": "code",
   "execution_count": 87,
   "id": "cd04e1f5",
   "metadata": {},
   "outputs": [],
   "source": [
    "y_pred = k_nearest_neighbour(x_train, y_train, k)"
   ]
  },
  {
   "cell_type": "markdown",
   "id": "1cb94f5b",
   "metadata": {},
   "source": [
    "# Calculate accuracy"
   ]
  },
  {
   "cell_type": "code",
   "execution_count": 90,
   "id": "faf1551d",
   "metadata": {},
   "outputs": [
    {
     "name": "stdout",
     "output_type": "stream",
     "text": [
      "Accuracy: 0.50125\n"
     ]
    }
   ],
   "source": [
    "accuracy = np.mean(y_pred == y_train)\n",
    "print(f\"Accuracy: {accuracy}\")"
   ]
  },
  {
   "cell_type": "markdown",
   "id": "6bd59296",
   "metadata": {},
   "source": [
    "# K Nearest Neighbour"
   ]
  },
  {
   "cell_type": "code",
   "execution_count": 89,
   "id": "81edc995",
   "metadata": {},
   "outputs": [],
   "source": [
    "def k_nearest_neighbour(x_train, y_train, k=3):\n",
    "    \n",
    "    def euclidean_distance(x1, x2):\n",
    "        return np.sqrt(np.sum((x1 - x2) ** 2))\n",
    "    \n",
    "    def prediction_of_sample(x):\n",
    "        distances = [euclidean_distance(x, x_train[i]) for i in range(len(x_train))]\n",
    "        sorted_indices = np.argsort(distances)[:k]\n",
    "        k_nearest_labels = [y_train[i] for i in sorted_indices]\n",
    "        unique_labels, label_counts = np.unique(k_nearest_labels, return_counts=True)\n",
    "        return unique_labels[np.argmax(label_counts)]\n",
    "    \n",
    "    # features Normalization\n",
    "    x_train = (x_train - x_train.mean()) / x_train.std()\n",
    "    \n",
    "    y_pred = [ prediction_of_sample(x) for x in x_train]\n",
    "    return np.array(y_pred)\n"
   ]
  },
  {
   "cell_type": "markdown",
   "id": "93d5ecf5",
   "metadata": {},
   "source": [
    "# Data Visualization"
   ]
  },
  {
   "cell_type": "code",
   "execution_count": 91,
   "id": "5c7e40b7",
   "metadata": {},
   "outputs": [
    {
     "data": {
      "image/png": "[encoded data removed]",
      "text/plain": [
       "<Figure size 432x288 with 1 Axes>"
      ]
     },
     "metadata": {
      "needs_background": "light"
     },
     "output_type": "display_data"
    }
   ],
   "source": [
    "plt.scatter(x_train[:, 0], x_train[:, 1], c=y_pred,marker='o',label='Training data')\n",
    "plt.scatter(x_test[:, 0], x_test[:, 1], c='k', marker='x', label='Test Data')\n",
    "plt.xlabel('Predicted')\n",
    "plt.ylabel('Actual')\n",
    "plt.title(f\"K-Nearest Neighbors (k={k})\")\n",
    "plt.legend()\n",
    "plt.show()\n"
   ]
  },
  {
   "cell_type": "code",
   "execution_count": null,
   "id": "39826420",
   "metadata": {},
   "outputs": [],
   "source": []
  }
 ],
 "metadata": {
  "kernelspec": {
   "display_name": "Python 3 (ipykernel)",
   "language": "python",
   "name": "python3"
  },
  "language_info": {
   "codemirror_mode": {
    "name": "ipython",
    "version": 3
   },
   "file_extension": ".py",
   "mimetype": "text/x-python",
   "name": "python",
   "nbconvert_exporter": "python",
   "pygments_lexer": "ipython3",
   "version": "3.10.4"
  }
 },
 "nbformat": 4,
 "nbformat_minor": 5
}
